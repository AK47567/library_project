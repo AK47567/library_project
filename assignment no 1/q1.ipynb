{
 "cells": [
  {
   "cell_type": "code",
   "execution_count": 9,
   "metadata": {},
   "outputs": [
    {
     "data": {
      "text/plain": [
       "'\\nIn the above code, there is no calculation or syntax error in the complete code. \\nHowever , there is a logical error in the code. We must check whether the numbers array contain a not None entity or not.\\nBecause if any of the element in the numbers array is None then it will give an error. \\n'"
      ]
     },
     "execution_count": 9,
     "metadata": {},
     "output_type": "execute_result"
    }
   ],
   "source": [
    "'''\n",
    "In the below code, there is no calculation or syntax error in the complete code. \n",
    "However , there is a logical error in the code. We must check whether the numbers array contain a not None entity or not.\n",
    "Because if any of the element in the numbers array is None then it will give an error. \n",
    "'''"
   ]
  },
  {
   "cell_type": "code",
   "execution_count": 12,
   "metadata": {},
   "outputs": [
    {
     "name": "stdout",
     "output_type": "stream",
     "text": [
      "Average: 30.0\n",
      "Maximum number: 50\n",
      "Updated Average: 45.0\n",
      "Updated Maximum number: 80\n",
      "Final Average: 50.0\n",
      "Final Maximum number: 80\n"
     ]
    }
   ],
   "source": [
    "def calculate_average(numbers):\n",
    "    total = sum(numbers)\n",
    "    average = total / len(numbers)\n",
    "    return average\n",
    "\n",
    "def find_maximum(numbers):\n",
    "    max_num = numbers[0]\n",
    "    for num in numbers:\n",
    "        if num > max_num:\n",
    "            max_num = num\n",
    "    return max_num\n",
    "\n",
    "def main():\n",
    "    numbers = [10, 20, 30, 40, 50]\n",
    "    #Here we are checking if the number exists or not so that we dont have a null value and send error\n",
    "    if 0 in numbers: \n",
    "        print(\"Error: Cannot calculate average or maximum when one or more elements is zero.\")\n",
    "        return\n",
    "    avg = calculate_average(numbers)\n",
    "    print(\"Average:\", avg)\n",
    "    \n",
    "    max_num = find_maximum(numbers)\n",
    "    print(\"Maximum number:\", max_num)\n",
    "    \n",
    "    # Add some more numbers to the list\n",
    "    numbers.extend([60, 70, 80])\n",
    "    \n",
    "    # Recalculate average and maximum\n",
    "    avg = calculate_average(numbers)\n",
    "    print(\"Updated Average:\", avg)\n",
    "    \n",
    "    max_num = find_maximum(numbers)\n",
    "    print(\"Updated Maximum number:\", max_num)\n",
    "    \n",
    "    # Remove the first number\n",
    "    numbers.pop(0)\n",
    "    \n",
    "    # Recalculate average and maximum again\n",
    "    avg = calculate_average(numbers)\n",
    "    print(\"Final Average:\", avg)\n",
    "    \n",
    "    max_num = find_maximum(numbers)\n",
    "    print(\"Final Maximum number:\", max_num)\n",
    "\n",
    "if __name__ == \"__main__\":\n",
    "    main()"
   ]
  },
  {
   "cell_type": "code",
   "execution_count": null,
   "metadata": {},
   "outputs": [],
   "source": []
  }
 ],
 "metadata": {
  "kernelspec": {
   "display_name": "Python 3",
   "language": "python",
   "name": "python3"
  },
  "language_info": {
   "codemirror_mode": {
    "name": "ipython",
    "version": 3
   },
   "file_extension": ".py",
   "mimetype": "text/x-python",
   "name": "python",
   "nbconvert_exporter": "python",
   "pygments_lexer": "ipython3",
   "version": "3.12.3"
  }
 },
 "nbformat": 4,
 "nbformat_minor": 2
}
